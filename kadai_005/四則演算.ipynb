{
  "nbformat": 4,
  "nbformat_minor": 0,
  "metadata": {
    "colab": {
      "provenance": []
    },
    "kernelspec": {
      "name": "python3",
      "display_name": "Python 3"
    },
    "language_info": {
      "name": "python"
    }
  },
  "cells": [
    {
      "cell_type": "code",
      "execution_count": 11,
      "metadata": {
        "colab": {
          "base_uri": "https://localhost:8080/"
        },
        "id": "gttFcl0t0LHl",
        "outputId": "e3005447-2af5-486d-e46c-fd92f1c18785"
      },
      "outputs": [
        {
          "output_type": "stream",
          "name": "stdout",
          "text": [
            "75.0 cm2\n"
          ]
        }
      ],
      "source": [
        "top = 10\n",
        "under = 20\n",
        "high = 5\n",
        "Area = (top + under) * high / 2\n",
        "\n",
        "print(str(Area) + \" cm2\")"
      ]
    }
  ]
}