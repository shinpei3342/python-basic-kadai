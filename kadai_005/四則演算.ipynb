{
  "nbformat": 4,
  "nbformat_minor": 0,
  "metadata": {
    "colab": {
      "provenance": []
    },
    "kernelspec": {
      "name": "python3",
      "display_name": "Python 3"
    },
    "language_info": {
      "name": "python"
    }
  },
  "cells": [
    {
      "cell_type": "code",
      "execution_count": 2,
      "metadata": {
        "colab": {
          "base_uri": "https://localhost:8080/"
        },
        "id": "gttFcl0t0LHl",
        "outputId": "ad975f55-6a74-4803-e975-30e8d6a123c4"
      },
      "outputs": [
        {
          "output_type": "stream",
          "name": "stdout",
          "text": [
            "75.0\n"
          ]
        }
      ],
      "source": [
        "top = 10\n",
        "under = 20\n",
        "high = 5\n",
        "\n",
        "print((top + under) * high / 2)"
      ]
    }
  ]
}