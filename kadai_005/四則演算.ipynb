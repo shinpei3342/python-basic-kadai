{
  "nbformat": 4,
  "nbformat_minor": 0,
  "metadata": {
    "colab": {
      "provenance": []
    },
    "kernelspec": {
      "name": "python3",
      "display_name": "Python 3"
    },
    "language_info": {
      "name": "python"
    }
  },
  "cells": [
    {
      "cell_type": "code",
      "execution_count": 3,
      "metadata": {
        "colab": {
          "base_uri": "https://localhost:8080/"
        },
        "id": "gttFcl0t0LHl",
        "outputId": "52bfdab9-2c20-4e33-c209-09a5e78b3bd9"
      },
      "outputs": [
        {
          "output_type": "stream",
          "name": "stdout",
          "text": [
            "75.0cm²\n"
          ]
        }
      ],
      "source": [
        "top = 10\n",
        "under = 20\n",
        "high = 5\n",
        "area = (top + under) * high / 2\n",
        "\n",
        "print(str(area) + \"cm²\")"
      ]
    }
  ]
}