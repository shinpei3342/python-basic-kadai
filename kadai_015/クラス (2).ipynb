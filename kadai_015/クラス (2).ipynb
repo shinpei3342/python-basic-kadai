{
  "nbformat": 4,
  "nbformat_minor": 0,
  "metadata": {
    "colab": {
      "provenance": []
    },
    "kernelspec": {
      "name": "python3",
      "display_name": "Python 3"
    },
    "language_info": {
      "name": "python"
    }
  },
  "cells": [
    {
      "cell_type": "code",
      "source": [
        "class Human:\n",
        "  def __init__(self,name ,age) :\n",
        "    self.name = name\n",
        "    self.age = age\n",
        "\n",
        "  def set_name(self, name ,age):\n",
        "    self.name = name\n",
        "    self.age = age\n",
        "\n",
        "  def printinfo(self):\n",
        "    print(self.name)\n",
        "    print(self.age)\n",
        "\n",
        "human = Human(\"name\", \"age\")\n",
        "\n",
        "human.set_name(\"name\" ,\"age\")\n",
        "human.printinfo()"
      ],
      "metadata": {
        "colab": {
          "base_uri": "https://localhost:8080/"
        },
        "id": "niGCyh8R4uI8",
        "outputId": "b47461b4-7c1e-410c-b2d1-2903bdb5edd2"
      },
      "execution_count": 29,
      "outputs": [
        {
          "output_type": "stream",
          "name": "stdout",
          "text": [
            "name\n",
            "age\n"
          ]
        }
      ]
    }
  ]
}