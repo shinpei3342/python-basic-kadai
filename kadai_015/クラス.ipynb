{
  "nbformat": 4,
  "nbformat_minor": 0,
  "metadata": {
    "colab": {
      "provenance": []
    },
    "kernelspec": {
      "name": "python3",
      "display_name": "Python 3"
    },
    "language_info": {
      "name": "python"
    }
  },
  "cells": [
    {
      "cell_type": "code",
      "execution_count": 4,
      "metadata": {
        "id": "xtAB12POr8MO"
      },
      "outputs": [],
      "source": [
        "class Human:\n",
        "\n",
        "    def __init__(self,name,age):\n",
        "        self.name = name\n",
        "        self.age = age\n",
        "\n",
        "\n",
        "\n",
        "    def printinfo(self,name ,age):\n",
        "      print(self.name)\n",
        "      print(self.name)\n",
        "\n"
      ]
    },
    {
      "cell_type": "code",
      "source": [
        "class Human:\n",
        "  def __init__(self,name ,age) :\n",
        "    self.name = \"\"\n",
        "    self.name = \"\"\n",
        "\n",
        "  def printinfo(self,name ,age):\n",
        "    print(self.name)\n",
        "    print(self.age)\n",
        "\n",
        "human = Human(\"name\", \"age\")"
      ],
      "metadata": {
        "id": "niGCyh8R4uI8"
      },
      "execution_count": 11,
      "outputs": []
    }
  ]
}