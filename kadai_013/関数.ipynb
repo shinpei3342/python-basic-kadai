{
  "nbformat": 4,
  "nbformat_minor": 0,
  "metadata": {
    "colab": {
      "provenance": []
    },
    "kernelspec": {
      "name": "python3",
      "display_name": "Python 3"
    },
    "language_info": {
      "name": "python"
    }
  },
  "cells": [
    {
      "cell_type": "code",
      "execution_count": 6,
      "metadata": {
        "colab": {
          "base_uri": "https://localhost:8080/"
        },
        "id": "cdsa5a7xkQY8",
        "outputId": "9ead78db-19b2-45aa-fb90-9f24846d6cd6"
      },
      "outputs": [
        {
          "output_type": "stream",
          "name": "stdout",
          "text": [
            "121.0円\n"
          ]
        }
      ],
      "source": [
        "def Calculate_total(X, Y):\n",
        "\n",
        "   Sum = X + X * Y / 100\n",
        "\n",
        "   return print(f\"{Sum}円\")\n",
        "\n",
        "Calculate_total(110, 10)"
      ]
    }
  ]
}