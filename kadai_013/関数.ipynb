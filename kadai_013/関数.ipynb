{
  "nbformat": 4,
  "nbformat_minor": 0,
  "metadata": {
    "colab": {
      "provenance": []
    },
    "kernelspec": {
      "name": "python3",
      "display_name": "Python 3"
    },
    "language_info": {
      "name": "python"
    }
  },
  "cells": [
    {
      "cell_type": "code",
      "execution_count": 12,
      "metadata": {
        "colab": {
          "base_uri": "https://localhost:8080/"
        },
        "id": "cdsa5a7xkQY8",
        "outputId": "1da04e7d-087b-4c3a-bc1d-b8818156feb6"
      },
      "outputs": [
        {
          "output_type": "execute_result",
          "data": {
            "text/plain": [
              "121.0"
            ]
          },
          "metadata": {},
          "execution_count": 12
        }
      ],
      "source": [
        "def calculate_total(X, Y):\n",
        "\n",
        "   Sum = X + X * Y / 100\n",
        "\n",
        "   return Sum\n",
        "\n",
        "calculate_total(110, 10)"
      ]
    }
  ]
}