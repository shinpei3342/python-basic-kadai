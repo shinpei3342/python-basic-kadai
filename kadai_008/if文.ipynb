{
  "nbformat": 4,
  "nbformat_minor": 0,
  "metadata": {
    "colab": {
      "provenance": []
    },
    "kernelspec": {
      "name": "python3",
      "display_name": "Python 3"
    },
    "language_info": {
      "name": "python"
    }
  },
  "cells": [
    {
      "cell_type": "code",
      "execution_count": 13,
      "metadata": {
        "colab": {
          "base_uri": "https://localhost:8080/"
        },
        "id": "567bLvpxfwf-",
        "outputId": "c90fc602-0560-4dff-9be4-ee007978e133"
      },
      "outputs": [
        {
          "output_type": "stream",
          "name": "stdout",
          "text": [
            "Buzz\n"
          ]
        }
      ],
      "source": [
        "var = 25\n",
        "\n",
        "if var % 3 == 0 and var % 5 == 0:\n",
        "\n",
        "    print(\"FizzBuzz\")\n",
        "\n",
        "elif var % 3 == 0:\n",
        "\n",
        "    print(\"Fizz\")\n",
        "\n",
        "elif var % 5 == 0:\n",
        "\n",
        "    print(\"Buzz\")\n",
        "\n",
        "else:\n",
        "\n",
        "    print(\"はずれです\")"
      ]
    }
  ]
}