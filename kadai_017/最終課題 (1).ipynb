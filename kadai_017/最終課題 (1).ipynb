{
  "nbformat": 4,
  "nbformat_minor": 0,
  "metadata": {
    "colab": {
      "provenance": []
    },
    "kernelspec": {
      "name": "python3",
      "display_name": "Python 3"
    },
    "language_info": {
      "name": "python"
    }
  },
  "cells": [
    {
      "cell_type": "code",
      "execution_count": 17,
      "metadata": {
        "colab": {
          "base_uri": "https://localhost:8080/"
        },
        "id": "BzaSoz9DJHVQ",
        "outputId": "261d5ff4-92ee-4516-a350-ece3936813de"
      },
      "outputs": [
        {
          "output_type": "stream",
          "name": "stdout",
          "text": [
            "大人である\n",
            "大人である\n",
            "大人である\n",
            "大人でない\n"
          ]
        }
      ],
      "source": [
        "class Human:\n",
        "  def __init__(self,name ,age):\n",
        "      self.name = name\n",
        "      self.age = age\n",
        "\n",
        "  def check_adult(self,name ,age):\n",
        "\n",
        "    if (age >= 20) :\n",
        "\n",
        "      print(\"大人である\")\n",
        "\n",
        "    else:\n",
        "\n",
        "      print(\"大人でない\")\n",
        "\n",
        "personal_data = {\"太郎\":30, \"次郎\":25, \"三郎\":20, \"四郎\":15}\n",
        "\n",
        "for key, value in personal_data.items():\n",
        "\n",
        "    human = Human(key,value)\n",
        "\n",
        "    human.check_adult(key,value)"
      ]
    }
  ]
}