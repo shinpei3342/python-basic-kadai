{
  "nbformat": 4,
  "nbformat_minor": 0,
  "metadata": {
    "colab": {
      "provenance": []
    },
    "kernelspec": {
      "name": "python3",
      "display_name": "Python 3"
    },
    "language_info": {
      "name": "python"
    }
  },
  "cells": [
    {
      "cell_type": "code",
      "execution_count": 12,
      "metadata": {
        "colab": {
          "base_uri": "https://localhost:8080/"
        },
        "id": "BzaSoz9DJHVQ",
        "outputId": "8871b397-f76d-4faf-90d1-f3bd621de4e9"
      },
      "outputs": [
        {
          "output_type": "stream",
          "name": "stdout",
          "text": [
            "大人でない\n"
          ]
        }
      ],
      "source": [
        "class Human:\n",
        "  def __init__(self,name ,age):\n",
        "      self.name = name\n",
        "      self.age = age\n",
        "\n",
        "  def check_adult(self,name ,age):\n",
        "\n",
        "    if age >= 20 :\n",
        "\n",
        "      print(\"大人である\")\n",
        "\n",
        "    else:\n",
        "\n",
        "      print(\"大人でない\")\n",
        "\n",
        "human = Human(\"Taro\",19)\n",
        "\n",
        "human.check_adult(\"Taro\",19)"
      ]
    }
  ]
}