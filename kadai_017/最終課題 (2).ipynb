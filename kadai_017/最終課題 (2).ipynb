{
  "nbformat": 4,
  "nbformat_minor": 0,
  "metadata": {
    "colab": {
      "provenance": []
    },
    "kernelspec": {
      "name": "python3",
      "display_name": "Python 3"
    },
    "language_info": {
      "name": "python"
    }
  },
  "cells": [
    {
      "cell_type": "code",
      "execution_count": 19,
      "metadata": {
        "colab": {
          "base_uri": "https://localhost:8080/"
        },
        "id": "BzaSoz9DJHVQ",
        "outputId": "0c7a70a4-5c7e-414e-8dc5-17bbdd0752e5"
      },
      "outputs": [
        {
          "output_type": "stream",
          "name": "stdout",
          "text": [
            "太郎は大人である\n",
            "次郎は大人である\n",
            "三郎は大人である\n",
            "四郎は大人でない\n"
          ]
        }
      ],
      "source": [
        "class Human:\n",
        "  def __init__(self,name ,age):\n",
        "      self.name = name\n",
        "      self.age = age\n",
        "\n",
        "  def check_adult(self):\n",
        "\n",
        "    if (self.age >= 20) :\n",
        "\n",
        "       print(f\"{self.name}は大人である\")\n",
        "\n",
        "    else:\n",
        "\n",
        "       print(f\"{self.name}は大人でない\")\n",
        "\n",
        "personal_data = {\"太郎\":30, \"次郎\":25, \"三郎\":20, \"四郎\":15}\n",
        "\n",
        "for key, value in personal_data.items():\n",
        "\n",
        "    human = Human(key,value)\n",
        "\n",
        "    human.check_adult()"
      ]
    }
  ]
}